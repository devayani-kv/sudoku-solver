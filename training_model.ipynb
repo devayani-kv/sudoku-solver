{
 "cells": [
  {
   "cell_type": "code",
   "execution_count": 1,
   "id": "cadda557",
   "metadata": {},
   "outputs": [],
   "source": [
    "import tensorflow as tf\n",
    "import keras\n",
    "import numpy as np\n",
    "import pandas as pd\n",
    "from numpy import mean\n",
    "from numpy import std\n",
    "from matplotlib import pyplot as plt\n",
    "from sklearn.model_selection import KFold\n",
    "from tensorflow.keras.datasets import mnist\n",
    "from tensorflow.keras.utils import to_categorical\n",
    "from tensorflow.keras.models import Sequential\n",
    "from tensorflow.keras.layers import Conv2D, Input, Dropout\n",
    "from tensorflow.keras.layers import MaxPooling2D\n",
    "from tensorflow.keras.layers import Dense\n",
    "from tensorflow.keras.layers import Flatten\n",
    "from tensorflow.keras.optimizers import SGD\n",
    "from tensorflow.keras.layers import Activation\n",
    "from tensorflow.keras.optimizers import Adam\n",
    "from keras.models import Model"
   ]
  },
  {
   "cell_type": "code",
   "execution_count": 2,
   "id": "78037670",
   "metadata": {},
   "outputs": [],
   "source": [
    "def load_dataset():\n",
    " # load dataset\n",
    " (trainX, trainY), (testX, testY) = mnist.load_data()\n",
    " # reshape dataset to have a single channel\n",
    " trainX = trainX.reshape((trainX.shape[0], 28, 28, 1))\n",
    " testX = testX.reshape((testX.shape[0], 28, 28, 1))\n",
    " # one hot encode target values\n",
    " trainY = to_categorical(trainY)\n",
    " testY = to_categorical(testY)\n",
    " return trainX, trainY, testX, testY"
   ]
  },
  {
   "cell_type": "code",
   "execution_count": 3,
   "id": "17fc0c21",
   "metadata": {},
   "outputs": [],
   "source": [
    "def prep_pixels(train, test):\n",
    " # convert from integers to floats\n",
    " train_norm = train.astype('float32')\n",
    " test_norm = test.astype('float32')\n",
    " # normalize to range 0-1\n",
    " train_norm = train_norm / 255.0\n",
    " test_norm = test_norm / 255.0\n",
    " # return normalized images\n",
    " return train_norm, test_norm"
   ]
  },
  {
   "cell_type": "code",
   "execution_count": 4,
   "id": "8aba39d5",
   "metadata": {},
   "outputs": [
    {
     "name": "stdout",
     "output_type": "stream",
     "text": [
      "no\n"
     ]
    }
   ],
   "source": [
    "from keras import backend as k\n",
    "if k.image_data_format() == 'channels_first':\n",
    "  print('yes')\n",
    "else: print('no')"
   ]
  },
  {
   "cell_type": "code",
   "execution_count": 5,
   "id": "bf4ab5ac",
   "metadata": {},
   "outputs": [],
   "source": [
    "def create_model():\n",
    "  model = Sequential()\n",
    "  inputShape = (28,28,1)\n",
    "  classes = 10\n",
    "  model.add(Conv2D(32, (5, 5), padding=\"same\",input_shape=inputShape))\n",
    "  model.add(Activation(\"relu\"))\n",
    "  model.add(MaxPooling2D(pool_size=(2, 2)))\n",
    "  # second set of CONV => RELU => POOL layers\n",
    "  model.add(Conv2D(32, (3, 3), padding=\"same\"))\n",
    "  model.add(Activation(\"relu\"))\n",
    "  model.add(MaxPooling2D(pool_size=(2, 2)))\n",
    "  # first set of FC => RELU layers\n",
    "  model.add(Flatten())\n",
    "  model.add(Dense(64))\n",
    "  model.add(Activation(\"relu\"))\n",
    "  model.add(Dropout(0.5))\n",
    "  # second set of FC => RELU layers\n",
    "  model.add(Dense(64))\n",
    "  model.add(Activation(\"relu\"))\n",
    "  model.add(Dropout(0.5))\n",
    "  # softmax classifier\n",
    "  model.add(Dense(classes))\n",
    "  model.add(Activation(\"softmax\"))\n",
    "  model.summary()\n",
    "  return model"
   ]
  },
  {
   "cell_type": "code",
   "execution_count": 6,
   "id": "8a5eaf06",
   "metadata": {},
   "outputs": [],
   "source": [
    "def compile_model():\n",
    "  INIT_LR = 1e-3\n",
    "  opt = Adam(lr=INIT_LR)\n",
    "  model.compile(loss=\"categorical_crossentropy\", optimizer=opt, metrics=[\"accuracy\"])"
   ]
  },
  {
   "cell_type": "code",
   "execution_count": 7,
   "id": "e68a30c1",
   "metadata": {},
   "outputs": [],
   "source": [
    "trainX, trainY, testX, testY = load_dataset()\n",
    "trainX, testX = prep_pixels(trainX, testX)"
   ]
  },
  {
   "cell_type": "code",
   "execution_count": 8,
   "id": "50595e2b",
   "metadata": {},
   "outputs": [
    {
     "name": "stdout",
     "output_type": "stream",
     "text": [
      "Model: \"sequential\"\n",
      "_________________________________________________________________\n",
      " Layer (type)                Output Shape              Param #   \n",
      "=================================================================\n",
      " conv2d (Conv2D)             (None, 28, 28, 32)        832       \n",
      "                                                                 \n",
      " activation (Activation)     (None, 28, 28, 32)        0         \n",
      "                                                                 \n",
      " max_pooling2d (MaxPooling2D  (None, 14, 14, 32)       0         \n",
      " )                                                               \n",
      "                                                                 \n",
      " conv2d_1 (Conv2D)           (None, 14, 14, 32)        9248      \n",
      "                                                                 \n",
      " activation_1 (Activation)   (None, 14, 14, 32)        0         \n",
      "                                                                 \n",
      " max_pooling2d_1 (MaxPooling  (None, 7, 7, 32)         0         \n",
      " 2D)                                                             \n",
      "                                                                 \n",
      " flatten (Flatten)           (None, 1568)              0         \n",
      "                                                                 \n",
      " dense (Dense)               (None, 64)                100416    \n",
      "                                                                 \n",
      " activation_2 (Activation)   (None, 64)                0         \n",
      "                                                                 \n",
      " dropout (Dropout)           (None, 64)                0         \n",
      "                                                                 \n",
      " dense_1 (Dense)             (None, 64)                4160      \n",
      "                                                                 \n",
      " activation_3 (Activation)   (None, 64)                0         \n",
      "                                                                 \n",
      " dropout_1 (Dropout)         (None, 64)                0         \n",
      "                                                                 \n",
      " dense_2 (Dense)             (None, 10)                650       \n",
      "                                                                 \n",
      " activation_4 (Activation)   (None, 10)                0         \n",
      "                                                                 \n",
      "=================================================================\n",
      "Total params: 115,306\n",
      "Trainable params: 115,306\n",
      "Non-trainable params: 0\n",
      "_________________________________________________________________\n"
     ]
    },
    {
     "name": "stderr",
     "output_type": "stream",
     "text": [
      "WARNING:absl:`lr` is deprecated, please use `learning_rate` instead, or use the legacy optimizer, e.g.,tf.keras.optimizers.legacy.Adam.\n"
     ]
    }
   ],
   "source": [
    "model = create_model()\n",
    "compile_model()"
   ]
  },
  {
   "cell_type": "code",
   "execution_count": 9,
   "id": "c6c52b90",
   "metadata": {},
   "outputs": [
    {
     "name": "stdout",
     "output_type": "stream",
     "text": [
      "Epoch 1/10\n",
      "469/469 [==============================] - 43s 88ms/step - loss: 0.7103 - accuracy: 0.7628\n",
      "Epoch 2/10\n",
      "469/469 [==============================] - 40s 85ms/step - loss: 0.2594 - accuracy: 0.9247\n",
      "Epoch 3/10\n",
      "469/469 [==============================] - 39s 84ms/step - loss: 0.1971 - accuracy: 0.9420\n",
      "Epoch 4/10\n",
      "469/469 [==============================] - 42s 89ms/step - loss: 0.1644 - accuracy: 0.9517\n",
      "Epoch 5/10\n",
      "469/469 [==============================] - 41s 87ms/step - loss: 0.1430 - accuracy: 0.9578\n",
      "Epoch 6/10\n",
      "469/469 [==============================] - 37s 78ms/step - loss: 0.1315 - accuracy: 0.9606\n",
      "Epoch 7/10\n",
      "469/469 [==============================] - 36s 77ms/step - loss: 0.1184 - accuracy: 0.9659\n",
      "Epoch 8/10\n",
      "469/469 [==============================] - 38s 81ms/step - loss: 0.1075 - accuracy: 0.9682\n",
      "Epoch 9/10\n",
      "469/469 [==============================] - 40s 85ms/step - loss: 0.1027 - accuracy: 0.9693\n",
      "Epoch 10/10\n",
      "469/469 [==============================] - 42s 89ms/step - loss: 0.0914 - accuracy: 0.9723\n"
     ]
    },
    {
     "data": {
      "text/plain": [
       "<keras.callbacks.History at 0x24eba9d4a60>"
      ]
     },
     "execution_count": 9,
     "metadata": {},
     "output_type": "execute_result"
    }
   ],
   "source": [
    "model.fit(trainX, trainY, epochs=10, batch_size=128)"
   ]
  },
  {
   "cell_type": "code",
   "execution_count": 11,
   "id": "27a6d7bf",
   "metadata": {},
   "outputs": [
    {
     "name": "stderr",
     "output_type": "stream",
     "text": [
      "WARNING:absl:Found untraced functions such as _jit_compiled_convolution_op, _jit_compiled_convolution_op, _update_step_xla while saving (showing 3 of 3). These functions will not be directly callable after loading.\n"
     ]
    },
    {
     "name": "stdout",
     "output_type": "stream",
     "text": [
      "INFO:tensorflow:Assets written to: C:\\Users\\Devayani K\\sudoku-solver\\assets\n"
     ]
    },
    {
     "name": "stderr",
     "output_type": "stream",
     "text": [
      "INFO:tensorflow:Assets written to: C:\\Users\\Devayani K\\sudoku-solver\\assets\n"
     ]
    }
   ],
   "source": [
    "model.save(r\"C:\\Users\\Devayani K\\sudoku-solver\")"
   ]
  },
  {
   "cell_type": "code",
   "execution_count": 13,
   "id": "13740fc9",
   "metadata": {},
   "outputs": [],
   "source": [
    "loaded_model = tf.keras.models.load_model(r\"C:\\Users\\Devayani K\\sudoku-solver\")"
   ]
  },
  {
   "cell_type": "code",
   "execution_count": 14,
   "id": "7a6bea27",
   "metadata": {},
   "outputs": [
    {
     "name": "stdout",
     "output_type": "stream",
     "text": [
      "Model: \"sequential\"\n",
      "_________________________________________________________________\n",
      " Layer (type)                Output Shape              Param #   \n",
      "=================================================================\n",
      " conv2d (Conv2D)             (None, 28, 28, 32)        832       \n",
      "                                                                 \n",
      " activation (Activation)     (None, 28, 28, 32)        0         \n",
      "                                                                 \n",
      " max_pooling2d (MaxPooling2D  (None, 14, 14, 32)       0         \n",
      " )                                                               \n",
      "                                                                 \n",
      " conv2d_1 (Conv2D)           (None, 14, 14, 32)        9248      \n",
      "                                                                 \n",
      " activation_1 (Activation)   (None, 14, 14, 32)        0         \n",
      "                                                                 \n",
      " max_pooling2d_1 (MaxPooling  (None, 7, 7, 32)         0         \n",
      " 2D)                                                             \n",
      "                                                                 \n",
      " flatten (Flatten)           (None, 1568)              0         \n",
      "                                                                 \n",
      " dense (Dense)               (None, 64)                100416    \n",
      "                                                                 \n",
      " activation_2 (Activation)   (None, 64)                0         \n",
      "                                                                 \n",
      " dropout (Dropout)           (None, 64)                0         \n",
      "                                                                 \n",
      " dense_1 (Dense)             (None, 64)                4160      \n",
      "                                                                 \n",
      " activation_3 (Activation)   (None, 64)                0         \n",
      "                                                                 \n",
      " dropout_1 (Dropout)         (None, 64)                0         \n",
      "                                                                 \n",
      " dense_2 (Dense)             (None, 10)                650       \n",
      "                                                                 \n",
      " activation_4 (Activation)   (None, 10)                0         \n",
      "                                                                 \n",
      "=================================================================\n",
      "Total params: 115,306\n",
      "Trainable params: 115,306\n",
      "Non-trainable params: 0\n",
      "_________________________________________________________________\n"
     ]
    }
   ],
   "source": [
    "loaded_model.summary()"
   ]
  },
  {
   "cell_type": "code",
   "execution_count": 15,
   "id": "1281d7f4",
   "metadata": {},
   "outputs": [],
   "source": [
    "import cv2\n",
    "\n",
    "def identify_number(image):\n",
    "    image_resize = cv2.resize(image, (28,28))    # For plt.imshow\n",
    "    image_resize_2 = image_resize.reshape(1,28,28,1)    # For input to model.predict_classes\n",
    "#    cv2.imshow('number', image_test_1)\n",
    "    loaded_model_pred = loaded_model.predict(image_resize_2, verbose = 0)\n",
    "    class_x = np.argmax(loaded_model_pred,axis=1)\n",
    "\n",
    "    #prediction = model.predict(test_image, verbose=0)\n",
    "    #class_x = np.argmax(prediction,axis=1)\n",
    "    #print (\"Predicted digit: {}\".format(class_x))\n",
    "    return class_x"
   ]
  },
  {
   "cell_type": "code",
   "execution_count": 22,
   "id": "bde69a66",
   "metadata": {},
   "outputs": [],
   "source": [
    "ime = []\n",
    "path = 'color_img1.jpg'\n",
    "sud = cv2.imread(path, cv2.IMREAD_GRAYSCALE)\n",
    "sudoku = cv2.resize(sud, (450,450))\n",
    "grid = np.zeros([9,9])\n",
    "for i in range(9):\n",
    "    for j in range(9):\n",
    "        image = sudoku[i*50:(i+1)*50,j*50:(j+1)*50]\n",
    "        ime.append(image)\n",
    "        if image.sum() > 100000:  #this line decides whether its a number or not\n",
    "            grid[i][j] = identify_number(image)\n",
    "        else:\n",
    "            grid[i][j] = 0\n",
    "grid =  grid.astype(int)"
   ]
  },
  {
   "cell_type": "code",
   "execution_count": 23,
   "id": "a40b8884",
   "metadata": {},
   "outputs": [
    {
     "data": {
      "text/plain": [
       "array([[8, 0, 0, 0, 1, 0, 0, 0, 9],\n",
       "       [0, 5, 0, 8, 0, 2, 0, 1, 0],\n",
       "       [0, 0, 4, 0, 9, 0, 2, 0, 0],\n",
       "       [0, 6, 0, 7, 0, 7, 0, 2, 0],\n",
       "       [5, 0, 8, 0, 6, 0, 1, 0, 2],\n",
       "       [0, 7, 0, 5, 0, 2, 0, 9, 0],\n",
       "       [0, 0, 2, 0, 4, 0, 6, 0, 0],\n",
       "       [0, 8, 0, 3, 0, 4, 0, 4, 0],\n",
       "       [3, 0, 0, 0, 5, 0, 0, 0, 8]])"
      ]
     },
     "execution_count": 23,
     "metadata": {},
     "output_type": "execute_result"
    }
   ],
   "source": [
    "grid"
   ]
  },
  {
   "cell_type": "code",
   "execution_count": 20,
   "id": "d142ef15",
   "metadata": {},
   "outputs": [
    {
     "name": "stdout",
     "output_type": "stream",
     "text": [
      "Test images shape: (4, 28, 28, 1)\n"
     ]
    }
   ],
   "source": [
    "test_images = testX[17:21]\n",
    "test_images = test_images.reshape(test_images.shape[0], 28, 28,1)\n",
    "print (\"Test images shape: {}\".format(test_images.shape))\n"
   ]
  },
  {
   "cell_type": "code",
   "execution_count": 21,
   "id": "51b5a3e1",
   "metadata": {},
   "outputs": [
    {
     "name": "stdout",
     "output_type": "stream",
     "text": [
      "Test images shape: (4, 28, 28, 1)\n",
      "Predicted digit: [7]\n",
      "Predicted digit: [3]\n",
      "Predicted digit: [4]\n",
      "Predicted digit: [9]\n"
     ]
    },
    {
     "data": {
      "image/png": "[encoded data removed]",
      "text/plain": [
       "<Figure size 432x288 with 4 Axes>"
      ]
     },
     "metadata": {
      "needs_background": "light"
     },
     "output_type": "display_data"
    }
   ],
   "source": [
    "print (\"Test images shape: {}\".format(test_images.shape))\n",
    "for i, test_image in enumerate(test_images, start=1):\n",
    "    org_image = test_image\n",
    "    test_image = test_image.reshape(1,28,28,1)\n",
    "    prediction = model.predict(test_image, verbose=0)\n",
    "    class_x = np.argmax(prediction,axis=1)\n",
    "    print (\"Predicted digit: {}\".format(class_x))\n",
    "    plt.subplot(220+i)\n",
    "    plt.axis('off')\n",
    "    plt.title(\"Predicted digit: {}\".format(class_x))\n",
    "    plt.imshow(org_image, cmap=plt.get_cmap('gray'))\n",
    "plt.show()"
   ]
  },
  {
   "cell_type": "code",
   "execution_count": null,
   "id": "78543894",
   "metadata": {},
   "outputs": [],
   "source": []
  }
 ],
 "metadata": {
  "kernelspec": {
   "display_name": "Python 3 (ipykernel)",
   "language": "python",
   "name": "python3"
  },
  "language_info": {
   "codemirror_mode": {
    "name": "ipython",
    "version": 3
   },
   "file_extension": ".py",
   "mimetype": "text/x-python",
   "name": "python",
   "nbconvert_exporter": "python",
   "pygments_lexer": "ipython3",
   "version": "3.9.11"
  }
 },
 "nbformat": 4,
 "nbformat_minor": 5
}
